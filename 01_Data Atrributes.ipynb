{
 "cells": [
  {
   "cell_type": "markdown",
   "metadata": {},
   "source": [
    "### GOROSPE, ROJ GIAN"
   ]
  },
  {
   "cell_type": "markdown",
   "metadata": {},
   "source": [
    "## Section 2.1"
   ]
  },
  {
   "cell_type": "markdown",
   "metadata": {},
   "source": [
    "### 2.1.1. Nominal attributes"
   ]
  },
  {
   "cell_type": "markdown",
   "metadata": {},
   "source": [
    "#### Nominal Attributes:\n",
    "\n",
    "Nominal attributes are categorical variables that represent distinct categories or labels with no inherent order or ranking among them. These attributes classify data into various groups based on qualitative differences. Examples include colors, gender, types of animals, and more."
   ]
  },
  {
   "cell_type": "markdown",
   "metadata": {},
   "source": [
    "#### Practical Python Code for Handling Nominal Attributes:\n",
    "\n",
    "Let's create a simple Python code snippet using the pandas library to work with a dataset containing nominal attributes. We'll load a sample dataset, explore nominal attributes, and perform one-hot encoding."
   ]
  },
  {
   "cell_type": "code",
   "execution_count": 1,
   "metadata": {},
   "outputs": [
    {
     "name": "stdout",
     "output_type": "stream",
     "text": [
      "Original Dataset:\n",
      "  Animal  Color   Habitat\n",
      "0    Dog  Brown    Forest\n",
      "1    Cat  Black      Home\n",
      "2   Fish   Gold  Aquarium\n",
      "3   Bird   Blue       Sky\n",
      "4  Snake  Green    Jungle\n",
      "\n",
      "\n",
      "Unique values in Animal: ['Dog' 'Cat' 'Fish' 'Bird' 'Snake']\n",
      "Unique values in Color: ['Brown' 'Black' 'Gold' 'Blue' 'Green']\n",
      "Unique values in Habitat: ['Forest' 'Home' 'Aquarium' 'Sky' 'Jungle']\n",
      "\n",
      "Dataset after One-Hot Encoding:\n",
      "   Animal_Bird  Animal_Cat  Animal_Dog  Animal_Fish  Animal_Snake  \\\n",
      "0        False       False        True        False         False   \n",
      "1        False        True       False        False         False   \n",
      "2        False       False       False         True         False   \n",
      "3         True       False       False        False         False   \n",
      "4        False       False       False        False          True   \n",
      "\n",
      "   Color_Black  Color_Blue  Color_Brown  Color_Gold  Color_Green  \\\n",
      "0        False       False         True       False        False   \n",
      "1         True       False        False       False        False   \n",
      "2        False       False        False        True        False   \n",
      "3        False        True        False       False        False   \n",
      "4        False       False        False       False         True   \n",
      "\n",
      "   Habitat_Aquarium  Habitat_Forest  Habitat_Home  Habitat_Jungle  Habitat_Sky  \n",
      "0             False            True         False           False        False  \n",
      "1             False           False          True           False        False  \n",
      "2              True           False         False           False        False  \n",
      "3             False           False         False           False         True  \n",
      "4             False           False         False            True        False  \n"
     ]
    }
   ],
   "source": [
    "import pandas as pd\n",
    "\n",
    "# Sample dataset with nominal attributes\n",
    "data = {\n",
    "    'Animal': ['Dog', 'Cat', 'Fish', 'Bird', 'Snake'],\n",
    "    'Color': ['Brown', 'Black', 'Gold', 'Blue', 'Green'],\n",
    "    'Habitat': ['Forest', 'Home', 'Aquarium', 'Sky', 'Jungle']\n",
    "}\n",
    "\n",
    "df = pd.DataFrame(data)\n",
    "\n",
    "# Display the original dataset\n",
    "print(\"Original Dataset:\")\n",
    "print(df)\n",
    "print(\"\\n\")\n",
    "\n",
    "# Explore the nominal attributes\n",
    "nominal_attributes = ['Animal', 'Color', 'Habitat']\n",
    "\n",
    "# Display the unique values in each nominal attribute\n",
    "for attribute in nominal_attributes:\n",
    "    print(f\"Unique values in {attribute}: {df[attribute].unique()}\")\n",
    "\n",
    "# Perform one-hot encoding\n",
    "#code here#\n",
    "df_encoded = pd.get_dummies(df)\n",
    "\n",
    "\n",
    "# Display the dataset after one-hot encoding\n",
    "print(\"\\nDataset after One-Hot Encoding:\")\n",
    "print(df_encoded)"
   ]
  },
  {
   "cell_type": "markdown",
   "metadata": {},
   "source": [
    "Explanation:\n",
    "\n",
    "    We create a pandas DataFrame with three nominal attributes: 'Animal', 'Color', and 'Habitat'.\n",
    "    We explore the unique values in each nominal attribute.\n",
    "    We use pd.get_dummies() to perform one-hot encoding, converting each nominal attribute into binary columns.\n",
    "    The resulting DataFrame (df_encoded) is displayed after one-hot encoding."
   ]
  },
  {
   "cell_type": "markdown",
   "metadata": {},
   "source": [
    "### 2.1.2. Binary attributes"
   ]
  },
  {
   "cell_type": "markdown",
   "metadata": {},
   "source": [
    "#### Binary Attributes:\n",
    "\n",
    "Binary attributes are categorical variables that can take on one of two possible values, typically representing the presence or absence of a certain characteristic. These attributes are fundamental in many datasets, and examples include Yes/No, True/False, 1/0, or any other two distinct categories."
   ]
  },
  {
   "cell_type": "markdown",
   "metadata": {},
   "source": [
    "#### Practical Python Code for Handling Binary Attributes:\n",
    "\n",
    "Let's create a Python code snippet using the pandas library to work with a dataset containing binary attributes. We'll load a sample dataset, explore binary attributes, and perform basic operations on them."
   ]
  },
  {
   "cell_type": "code",
   "execution_count": 2,
   "metadata": {},
   "outputs": [
    {
     "name": "stdout",
     "output_type": "stream",
     "text": [
      "Original Dataset:\n",
      "   StudentID  PassedExam  EnrolledInCourse\n",
      "0          1           1                 1\n",
      "1          2           0                 1\n",
      "2          3           1                 0\n",
      "3          4           1                 1\n",
      "4          5           0                 0\n",
      "\n",
      "\n",
      "Counts for PassedExam:\n",
      "PassedExam\n",
      "1    3\n",
      "0    2\n",
      "Name: count, dtype: int64\n",
      "\n",
      "Counts for EnrolledInCourse:\n",
      "EnrolledInCourse\n",
      "1    3\n",
      "0    2\n",
      "Name: count, dtype: int64\n",
      "\n",
      "Dataset after performing an operation on binary attributes:\n",
      "   StudentID  PassedExam  EnrolledInCourse  TotalAttributes\n",
      "0          1           1                 1                2\n",
      "1          2           0                 1                1\n",
      "2          3           1                 0                1\n",
      "3          4           1                 1                2\n",
      "4          5           0                 0                0\n"
     ]
    }
   ],
   "source": [
    "import pandas as pd\n",
    "\n",
    "# Sample dataset with binary attributes\n",
    "data = {\n",
    "    'StudentID': [1, 2, 3, 4, 5],\n",
    "    'PassedExam': [1, 0, 1, 1, 0],\n",
    "    'EnrolledInCourse': [1, 1, 0, 1, 0]\n",
    "}\n",
    "\n",
    "df = pd.DataFrame(data)\n",
    "\n",
    "# Display the original dataset\n",
    "print(\"Original Dataset:\")\n",
    "print(df)\n",
    "print(\"\\n\")\n",
    "\n",
    "# Explore the binary attributes\n",
    "binary_attributes = ['PassedExam', 'EnrolledInCourse']\n",
    "\n",
    "# Display the count of each unique value in binary attributes\n",
    "for attribute in binary_attributes:\n",
    "    print(f\"Counts for {attribute}:\\n{df[attribute].value_counts()}\\n\")\n",
    "\n",
    "# Perform basic operations on binary attributes\n",
    "#code here#\n",
    "\n",
    "# Add a new column 'TotalAttributes' that sums the binary attributes\n",
    "df['TotalAttributes'] = df[binary_attributes].sum(axis=1)\n",
    "\n",
    "\n",
    "# Display the dataset after the operation\n",
    "print(\"Dataset after performing an operation on binary attributes:\")\n",
    "print(df)\n"
   ]
  },
  {
   "cell_type": "markdown",
   "metadata": {},
   "source": [
    "Explanation:\n",
    "\n",
    "    We create a pandas DataFrame with two binary attributes: 'PassedExam' and 'EnrolledInCourse'.\n",
    "    We explore the counts of each unique value in binary attributes using value_counts().\n",
    "    We perform a basic operation (addition) on binary attributes to create a new attribute, 'TotalAttributes'.\n",
    "    The resulting DataFrame (df) is displayed after these operations."
   ]
  },
  {
   "cell_type": "markdown",
   "metadata": {},
   "source": [
    "### 2.1.3. Ordinal attributes"
   ]
  },
  {
   "cell_type": "markdown",
   "metadata": {},
   "source": [
    "#### Ordinal Attributes:\n",
    "\n",
    "Ordinal attributes are categorical variables with a meaningful order or ranking among the categories. Unlike nominal attributes, ordinal attributes have a clear, meaningful sequence, but the intervals between them are not necessarily uniform or well-defined. Examples of ordinal attributes include education levels (e.g., elementary, high school, college), customer satisfaction ratings, or socioeconomic classes."
   ]
  },
  {
   "cell_type": "markdown",
   "metadata": {},
   "source": [
    "#### Practical Python Code for Handling Ordinal Attributes:\n",
    "\n",
    "Let's create a Python code snippet using the pandas library to work with a dataset containing ordinal attributes. We'll load a sample dataset, explore ordinal attributes, and demonstrate how to encode them to preserve the ordinal relationship."
   ]
  },
  {
   "cell_type": "code",
   "execution_count": 3,
   "metadata": {},
   "outputs": [
    {
     "name": "stdout",
     "output_type": "stream",
     "text": [
      "Original Dataset:\n",
      "   StudentID EducationLevel  SatisfactionRating\n",
      "0          1    High School                   3\n",
      "1          2        College                   5\n",
      "2          3     Elementary                   2\n",
      "3          4        College                   4\n",
      "4          5    High School                   1\n",
      "\n",
      "\n",
      "Unique values in EducationLevel: ['High School' 'College' 'Elementary']\n",
      "Unique values in SatisfactionRating: [3 5 2 4 1]\n",
      "\n",
      "Dataset after encoding ordinal attributes:\n",
      "   StudentID EducationLevel  SatisfactionRating  EducationLevelEncoded\n",
      "0          1    High School                   3                      2\n",
      "1          2        College                   5                      3\n",
      "2          3     Elementary                   2                      1\n",
      "3          4        College                   4                      3\n",
      "4          5    High School                   1                      2\n"
     ]
    }
   ],
   "source": [
    "import pandas as pd\n",
    "\n",
    "# Sample dataset with ordinal attributes\n",
    "data = {\n",
    "    'StudentID': [1, 2, 3, 4, 5],\n",
    "    'EducationLevel': ['High School', 'College', 'Elementary', 'College', 'High School'],\n",
    "    'SatisfactionRating': [3, 5, 2, 4, 1]\n",
    "}\n",
    "\n",
    "df = pd.DataFrame(data)\n",
    "\n",
    "# Display the original dataset\n",
    "print(\"Original Dataset:\")\n",
    "print(df)\n",
    "print(\"\\n\")\n",
    "\n",
    "# Explore the ordinal attributes\n",
    "ordinal_attributes = ['EducationLevel', 'SatisfactionRating']\n",
    "\n",
    "# Display the unique values in each ordinal attribute\n",
    "for attribute in ordinal_attributes:\n",
    "    print(f\"Unique values in {attribute}: {df[attribute].unique()}\")\n",
    "\n",
    "# Encode ordinal attributes with meaningful numerical values\n",
    "education_level_mapping = {'Elementary': 1, 'High School': 2, 'College': 3}\n",
    "#code here# \n",
    "\n",
    "# Add a new column 'EducationLevelEncoded' that maps the ordinal values\n",
    "df['EducationLevelEncoded'] = df['EducationLevel'].map(education_level_mapping)\n",
    "\n",
    "\n",
    "# Display the dataset after encoding ordinal attributes\n",
    "print(\"\\nDataset after encoding ordinal attributes:\")\n",
    "print(df)\n"
   ]
  },
  {
   "cell_type": "markdown",
   "metadata": {},
   "source": [
    "Explanation:\n",
    "\n",
    "    We create a pandas DataFrame with two ordinal attributes: 'EducationLevel' and 'SatisfactionRating'.\n",
    "    We explore the unique values in each ordinal attribute.\n",
    "    We encode ordinal attributes with meaningful numerical values using the map() function to create a new attribute, 'EducationLevelEncoded'.\n",
    "    The resulting DataFrame (df) is displayed after these operations."
   ]
  },
  {
   "cell_type": "markdown",
   "metadata": {},
   "source": [
    "### 2.1.4. Numeric attributes"
   ]
  },
  {
   "cell_type": "markdown",
   "metadata": {},
   "source": [
    "#### Numeric Attributes:\n",
    "\n",
    "Numeric attributes represent quantities and can take on numerical values. There are two main types of numeric attributes: discrete and continuous. Discrete numeric attributes can only take on distinct, separate values (e.g., the number of bedrooms in a house), while continuous numeric attributes can take on any value within a range (e.g., height, weight)."
   ]
  },
  {
   "cell_type": "markdown",
   "metadata": {},
   "source": [
    "#### Practical Python Code for Handling Numeric Attributes:\n",
    "\n",
    "Let's create a Python code snippet using the pandas library to work with a dataset containing numeric attributes. We'll load a sample dataset, explore numeric attributes, and perform basic operations on them."
   ]
  },
  {
   "cell_type": "code",
   "execution_count": 4,
   "metadata": {},
   "outputs": [
    {
     "name": "stdout",
     "output_type": "stream",
     "text": [
      "Original Dataset:\n",
      "   StudentID  Age  Height (cm)  Score\n",
      "0          1   21          175     85\n",
      "1          2   19          160     92\n",
      "2          3   22          180     78\n",
      "3          4   20          165     89\n",
      "4          5   23          185     95\n",
      "\n",
      "\n",
      "Summary Statistics for Numeric Attributes:\n",
      "             Age  Height (cm)      Score\n",
      "count   5.000000     5.000000   5.000000\n",
      "mean   21.000000   173.000000  87.800000\n",
      "std     1.581139    10.368221   6.610598\n",
      "min    19.000000   160.000000  78.000000\n",
      "25%    20.000000   165.000000  85.000000\n",
      "50%    21.000000   175.000000  89.000000\n",
      "75%    22.000000   180.000000  92.000000\n",
      "max    23.000000   185.000000  95.000000\n",
      "\n",
      "Dataset after performing an operation on numeric attributes:\n",
      "   StudentID  Age  Height (cm)  Score  NormalizedScore\n",
      "0          1   21          175     85         0.411765\n",
      "1          2   19          160     92         0.823529\n",
      "2          3   22          180     78         0.000000\n",
      "3          4   20          165     89         0.647059\n",
      "4          5   23          185     95         1.000000\n"
     ]
    }
   ],
   "source": [
    "import pandas as pd\n",
    "\n",
    "# Sample dataset with numeric attributes\n",
    "data = {\n",
    "    'StudentID': [1, 2, 3, 4, 5],\n",
    "    'Age': [21, 19, 22, 20, 23],\n",
    "    'Height (cm)': [175, 160, 180, 165, 185],\n",
    "    'Score': [85, 92, 78, 89, 95]\n",
    "}\n",
    "\n",
    "df = pd.DataFrame(data)\n",
    "\n",
    "# Display the original dataset\n",
    "print(\"Original Dataset:\")\n",
    "print(df)\n",
    "print(\"\\n\")\n",
    "\n",
    "# Explore the numeric attributes\n",
    "numeric_attributes = ['Age', 'Height (cm)', 'Score']\n",
    "\n",
    "# Display summary statistics for numeric attributes\n",
    "print(\"Summary Statistics for Numeric Attributes:\")\n",
    "#code here#\n",
    "print(df[numeric_attributes].describe())\n",
    "\n",
    "# Perform basic operations on numeric attributes\n",
    "#code here#\n",
    "\n",
    "# Add a new column 'NormalizedScore' that normalizes the 'Score' attribute\n",
    "# The formula used is: (x - min(x)) / (max(x) - min(x)) where x is the 'Score' attribute\n",
    "# The normalization used is Min-Max normalization\n",
    "df['NormalizedScore'] = (df['Score'] - df['Score'].min()) / (df['Score'].max() - df['Score'].min())\n",
    "\n",
    "# Display the dataset after the operation\n",
    "print(\"\\nDataset after performing an operation on numeric attributes:\")\n",
    "print(df)\n"
   ]
  },
  {
   "cell_type": "markdown",
   "metadata": {},
   "source": [
    "Explanation:\n",
    "\n",
    "    We create a pandas DataFrame with three numeric attributes: 'Age', 'Height (cm)', and 'Score'.\n",
    "    We explore summary statistics for numeric attributes using describe().\n",
    "    We perform a basic operation (normalization) on the 'Score' attribute to create a new attribute, 'NormalizedScore'.\n",
    "    The resulting DataFrame (df) is displayed after these operations."
   ]
  },
  {
   "cell_type": "markdown",
   "metadata": {},
   "source": [
    "### 2.1.5. Discrete vs. continuous attributes"
   ]
  },
  {
   "cell_type": "markdown",
   "metadata": {},
   "source": [
    "#### Discrete Attributes:\n",
    "\n",
    "Definition: Discrete attributes can only take on distinct, separate values.\n",
    "Examples: The number of bedrooms in a house, the count of items in a shopping cart, the number of students in a class.\n",
    "Nature: These attributes are often counted in whole numbers and have clear boundaries between values.\n",
    "\n",
    "#### Continuous Attributes:\n",
    "\n",
    "Definition: Continuous attributes can take on any value within a range.\n",
    "Examples: Height, weight, temperature, and any measurement that can have decimal values.\n",
    "Nature: These attributes have a continuous and infinite set of possible values, making them suitable for measurement."
   ]
  },
  {
   "cell_type": "markdown",
   "metadata": {},
   "source": [
    "#### Practical Python Code for Discrete vs. Continuous Attributes:\n",
    "\n",
    "Let's create a Python code snippet using the pandas library to work with a dataset containing both discrete and continuous attributes. We'll load a sample dataset, explore the nature of each type, and perform basic operations."
   ]
  },
  {
   "cell_type": "code",
   "execution_count": 5,
   "metadata": {},
   "outputs": [
    {
     "name": "stdout",
     "output_type": "stream",
     "text": [
      "Original Dataset:\n",
      "   StudentID  NumCourses  GPA  Income\n",
      "0          1           4  3.5   25000\n",
      "1          2           5  4.0   30000\n",
      "2          3           3  3.2   20000\n",
      "3          4           6  3.8   35000\n",
      "4          5           4  3.9   32000\n",
      "\n",
      "\n",
      "Nature of Attributes:\n",
      "GPA is a continuous attribute.\n",
      "\n",
      "Dataset after performing an operation on continuous attributes:\n",
      "   StudentID  NumCourses  GPA  Income  ScaledIncome\n",
      "0          1           4  3.5   25000      0.333333\n",
      "1          2           5  4.0   30000      0.666667\n",
      "2          3           3  3.2   20000      0.000000\n",
      "3          4           6  3.8   35000      1.000000\n",
      "4          5           4  3.9   32000      0.800000\n"
     ]
    }
   ],
   "source": [
    "import pandas as pd\n",
    "\n",
    "# Sample dataset with discrete and continuous attributes\n",
    "data = {\n",
    "    'StudentID': [1, 2, 3, 4, 5],\n",
    "    'NumCourses': [4, 5, 3, 6, 4],  # Discrete attribute (number of courses)\n",
    "    'GPA': [3.5, 4.0, 3.2, 3.8, 3.9],  # Continuous attribute (GPA)\n",
    "    'Income': [25000, 30000, 20000, 35000, 32000]  # Continuous attribute (income in dollars)\n",
    "}\n",
    "\n",
    "df = pd.DataFrame(data)\n",
    "\n",
    "# Display the original dataset\n",
    "print(\"Original Dataset:\")\n",
    "print(df)\n",
    "print(\"\\n\")\n",
    "\n",
    "# Explore the nature of attributes\n",
    "print(\"Nature of Attributes:\")\n",
    "for column in df.columns:\n",
    "    if df[column].dtype == 'int':\n",
    "        print(f\"{column} is a discrete attribute.\")\n",
    "    elif df[column].dtype == 'float':\n",
    "        print(f\"{column} is a continuous attribute.\")\n",
    "\n",
    "# Perform basic operations on continuous attributes\n",
    "#code here#  \n",
    "# # Scale income for readability\n",
    "\n",
    "# Add a new column 'ScaledIncome' that scales the 'Income' attribute\n",
    "# The formula used is: (x - min(x)) / (max(x) - min(x)) where x is the 'Income' attribute\n",
    "# The scaling used is Min-Max scaling too\n",
    "df['ScaledIncome'] = (df['Income'] - df['Income'].min()) / (df['Income'].max() - df['Income'].min())\n",
    "\n",
    "# Display the dataset after the operation\n",
    "print(\"\\nDataset after performing an operation on continuous attributes:\")\n",
    "print(df)\n"
   ]
  },
  {
   "cell_type": "markdown",
   "metadata": {},
   "source": [
    "Explanation:\n",
    "\n",
    "    We create a pandas DataFrame with three attributes: 'NumCourses' (discrete), 'GPA' (continuous), and 'Income' (continuous).\n",
    "    We explore the nature of each attribute based on its data type.\n",
    "    We perform a basic operation (scaling) on a continuous attribute ('Income') to create a new attribute, 'ScaledIncome'.\n",
    "    The resulting DataFrame (df) is displayed after these operations."
   ]
  }
 ],
 "metadata": {
  "kernelspec": {
   "display_name": "Python 3",
   "language": "python",
   "name": "python3"
  },
  "language_info": {
   "codemirror_mode": {
    "name": "ipython",
    "version": 3
   },
   "file_extension": ".py",
   "mimetype": "text/x-python",
   "name": "python",
   "nbconvert_exporter": "python",
   "pygments_lexer": "ipython3",
   "version": "3.10.11"
  }
 },
 "nbformat": 4,
 "nbformat_minor": 2
}
